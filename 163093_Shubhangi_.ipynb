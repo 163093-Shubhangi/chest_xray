{
 "cells": [
  {
   "cell_type": "code",
   "execution_count": 179,
   "id": "fee6dd3e",
   "metadata": {},
   "outputs": [],
   "source": [
    "import pandas as pd\n",
    "from tensorflow.keras.preprocessing.image import ImageDataGenerator\n",
    "from tensorflow.keras.models import Sequential\n",
    "from tensorflow.keras.layers import Conv2D, MaxPool2D\n",
    "from tensorflow.keras.layers import Activation, Dropout, Flatten, Dense, Input\n",
    "import os\n",
    "import matplotlib.pyplot as plt\n",
    "import numpy as np\n",
    "from sklearn import metrics\n",
    "import time"
   ]
  },
  {
   "cell_type": "code",
   "execution_count": 180,
   "id": "09646a64",
   "metadata": {},
   "outputs": [],
   "source": [
    "from IPython.core.interactiveshell import InteractiveShell\n",
    "InteractiveShell.ast_node_interactivity = \"all\""
   ]
  },
  {
   "cell_type": "code",
   "execution_count": 181,
   "id": "00996438",
   "metadata": {
    "scrolled": true
   },
   "outputs": [],
   "source": [
    "train_data_dir = \"D:\\chest_xray\\\\test\"\n",
    "test_data_dir =  \"D:\\chest_xray\\\\train\"\n",
    "    \n",
    "validation_data_dir = \"D:\\chest_xray\\\\val\"\n"
   ]
  },
  {
   "cell_type": "code",
   "execution_count": 182,
   "id": "d6066afc",
   "metadata": {},
   "outputs": [],
   "source": [
    "img_width, img_height = 150, 150\n",
    "nb_train_samples = 2000\n",
    "nb_validation_samples = 800\n",
    "batch_size = 16 \n",
    "epochs = 5\n",
    "test_generator_samples = 300\n",
    "test_batch_size = 24\n",
    "input_shape = (img_width, img_height, 3)\n"
   ]
  },
  {
   "cell_type": "code",
   "execution_count": 242,
   "id": "42380a35",
   "metadata": {},
   "outputs": [],
   "source": [
    "model = Sequential()"
   ]
  },
  {
   "cell_type": "code",
   "execution_count": 243,
   "id": "1d9d8417",
   "metadata": {},
   "outputs": [],
   "source": [
    "model.add( Input(shape = (img_width,img_height, 3) ))"
   ]
  },
  {
   "cell_type": "code",
   "execution_count": 244,
   "id": "b0a1ca6b",
   "metadata": {},
   "outputs": [],
   "source": [
    "model.add(Conv2D(filters=64, kernel_size=3, strides= 2, padding='same',activation= 'relu' ))"
   ]
  },
  {
   "cell_type": "code",
   "execution_count": 245,
   "id": "add00986",
   "metadata": {},
   "outputs": [],
   "source": [
    "model.add(MaxPool2D())"
   ]
  },
  {
   "cell_type": "code",
   "execution_count": 246,
   "id": "7d47a800",
   "metadata": {},
   "outputs": [],
   "source": [
    "model.add(Conv2D(filters=32,kernel_size=3,activation= 'relu' ))"
   ]
  },
  {
   "cell_type": "code",
   "execution_count": 247,
   "id": "db2e95d8",
   "metadata": {},
   "outputs": [],
   "source": [
    "model.add(MaxPool2D())"
   ]
  },
  {
   "cell_type": "code",
   "execution_count": 248,
   "id": "7ab97d5d",
   "metadata": {},
   "outputs": [],
   "source": [
    "model.add(Conv2D(filters=32,kernel_size=3,activation= 'relu' ))"
   ]
  },
  {
   "cell_type": "code",
   "execution_count": 249,
   "id": "97d9199b",
   "metadata": {},
   "outputs": [],
   "source": [
    "model.add(MaxPool2D())"
   ]
  },
  {
   "cell_type": "code",
   "execution_count": 250,
   "id": "f4e4a215",
   "metadata": {},
   "outputs": [],
   "source": [
    "model.add(Dense(64, activation='relu'))"
   ]
  },
  {
   "cell_type": "code",
   "execution_count": 251,
   "id": "3a386b26",
   "metadata": {},
   "outputs": [],
   "source": [
    "model.add(Dropout(rate=0.5))"
   ]
  },
  {
   "cell_type": "code",
   "execution_count": 252,
   "id": "587e7031",
   "metadata": {},
   "outputs": [],
   "source": [
    "model.add(Flatten(name = \"FlattenedLayer\"))"
   ]
  },
  {
   "cell_type": "code",
   "execution_count": 253,
   "id": "e4f278c7",
   "metadata": {},
   "outputs": [],
   "source": [
    "model.add(Dense(1, activation='sigmoid'))"
   ]
  },
  {
   "cell_type": "code",
   "execution_count": 254,
   "id": "f0c58799",
   "metadata": {},
   "outputs": [
    {
     "name": "stdout",
     "output_type": "stream",
     "text": [
      "Model: \"sequential_10\"\n",
      "_________________________________________________________________\n",
      " Layer (type)                Output Shape              Param #   \n",
      "=================================================================\n",
      " conv2d_24 (Conv2D)          (None, 75, 75, 64)        1792      \n",
      "                                                                 \n",
      " max_pooling2d_24 (MaxPoolin  (None, 37, 37, 64)       0         \n",
      " g2D)                                                            \n",
      "                                                                 \n",
      " conv2d_25 (Conv2D)          (None, 35, 35, 32)        18464     \n",
      "                                                                 \n",
      " max_pooling2d_25 (MaxPoolin  (None, 17, 17, 32)       0         \n",
      " g2D)                                                            \n",
      "                                                                 \n",
      " conv2d_26 (Conv2D)          (None, 15, 15, 32)        9248      \n",
      "                                                                 \n",
      " max_pooling2d_26 (MaxPoolin  (None, 7, 7, 32)         0         \n",
      " g2D)                                                            \n",
      "                                                                 \n",
      " dense_21 (Dense)            (None, 7, 7, 64)          2112      \n",
      "                                                                 \n",
      " dropout_10 (Dropout)        (None, 7, 7, 64)          0         \n",
      "                                                                 \n",
      " FlattenedLayer (Flatten)    (None, 3136)              0         \n",
      "                                                                 \n",
      " dense_22 (Dense)            (None, 1)                 3137      \n",
      "                                                                 \n",
      "=================================================================\n",
      "Total params: 34,753\n",
      "Trainable params: 34,753\n",
      "Non-trainable params: 0\n",
      "_________________________________________________________________\n"
     ]
    }
   ],
   "source": [
    "model.summary()"
   ]
  },
  {
   "cell_type": "code",
   "execution_count": 255,
   "id": "25b0f949",
   "metadata": {},
   "outputs": [],
   "source": [
    "model.compile(loss='binary_crossentropy', optimizer= 'adam', metrics=['accuracy'])"
   ]
  },
  {
   "cell_type": "code",
   "execution_count": 256,
   "id": "853415b3",
   "metadata": {},
   "outputs": [],
   "source": [
    "tr_dtgen = ImageDataGenerator(\n",
    "                              rescale=1. / 255,     \n",
    "                              shear_range=0.2,      \n",
    "                              zoom_range=0.2,\n",
    "                              horizontal_flip=True,\n",
    "                              )"
   ]
  },
  {
   "cell_type": "code",
   "execution_count": 257,
   "id": "5738b3a7",
   "metadata": {},
   "outputs": [
    {
     "name": "stdout",
     "output_type": "stream",
     "text": [
      "Found 624 images belonging to 2 classes.\n"
     ]
    }
   ],
   "source": [
    "train_generator = tr_dtgen.flow_from_directory(\n",
    "                                               train_data_dir,       \n",
    "                                               target_size=(img_width, img_height),\n",
    "                                               batch_size=batch_size,\n",
    "                                               class_mode='binary'   \n",
    "                                                )\n"
   ]
  },
  {
   "cell_type": "code",
   "execution_count": 258,
   "id": "3f92aeb7",
   "metadata": {},
   "outputs": [],
   "source": [
    "val_dtgen = ImageDataGenerator(rescale=1. / 255)"
   ]
  },
  {
   "cell_type": "code",
   "execution_count": 259,
   "id": "ddbb1151",
   "metadata": {},
   "outputs": [
    {
     "name": "stdout",
     "output_type": "stream",
     "text": [
      "Found 16 images belonging to 2 classes.\n"
     ]
    }
   ],
   "source": [
    "validation_generator = val_dtgen.flow_from_directory(\n",
    "                                                     validation_data_dir,\n",
    "                                                     target_size=(img_width, img_height),   \n",
    "                                                     batch_size=batch_size,    \n",
    "                                                     class_mode='binary'  \n",
    "                                                     )"
   ]
  },
  {
   "cell_type": "code",
   "execution_count": 266,
   "id": "ab77e111",
   "metadata": {},
   "outputs": [
    {
     "name": "stdout",
     "output_type": "stream",
     "text": [
      "Epoch 1/2\n"
     ]
    },
    {
     "name": "stderr",
     "output_type": "stream",
     "text": [
      "C:\\Users\\ubuntu\\AppData\\Local\\Temp\\ipykernel_83276\\665502559.py:2: UserWarning: `Model.fit_generator` is deprecated and will be removed in a future version. Please use `Model.fit`, which supports generators.\n",
      "  history = model.fit_generator(\n"
     ]
    },
    {
     "name": "stdout",
     "output_type": "stream",
     "text": [
      " 39/125 [========>.....................] - ETA: 16s - loss: 0.4533 - accuracy: 0.8029WARNING:tensorflow:Your input ran out of data; interrupting training. Make sure that your dataset or generator can generate at least `steps_per_epoch * epochs` batches (in this case, 250 batches). You may need to use the repeat() function when building your dataset.\n",
      "WARNING:tensorflow:Your input ran out of data; interrupting training. Make sure that your dataset or generator can generate at least `steps_per_epoch * epochs` batches (in this case, 50 batches). You may need to use the repeat() function when building your dataset.\n",
      "125/125 [==============================] - 8s 60ms/step - loss: 0.4533 - accuracy: 0.8029 - val_loss: 0.7125 - val_accuracy: 0.6250\n"
     ]
    },
    {
     "data": {
      "text/plain": [
       "0.13008796374003093"
      ]
     },
     "execution_count": 266,
     "metadata": {},
     "output_type": "execute_result"
    }
   ],
   "source": [
    "start = time.time()\n",
    "history = model.fit_generator(\n",
    "                              generator = train_generator,\n",
    "                              steps_per_epoch=nb_train_samples // batch_size,\n",
    "                              epochs=2,\n",
    "                              validation_data=validation_generator,\n",
    "                              verbose = 1,\n",
    "                              validation_steps=nb_validation_samples // batch_size\n",
    "                              )\n",
    "\n",
    "end = time.time()\n",
    "(end - start)/60"
   ]
  },
  {
   "cell_type": "code",
   "execution_count": 261,
   "id": "c2c8248f",
   "metadata": {},
   "outputs": [
    {
     "name": "stdout",
     "output_type": "stream",
     "text": [
      "1/4 [======>.......................] - ETA: 0s - loss: 0.6981 - accuracy: 0.5000WARNING:tensorflow:Your input ran out of data; interrupting training. Make sure that your dataset or generator can generate at least `steps_per_epoch * epochs` batches (in this case, 4 batches). You may need to use the repeat() function when building your dataset.\n",
      "4/4 [==============================] - 0s 7ms/step - loss: 0.6981 - accuracy: 0.5000\n"
     ]
    },
    {
     "data": {
      "text/plain": [
       "[0.6980636119842529, 0.5]"
      ]
     },
     "execution_count": 261,
     "metadata": {},
     "output_type": "execute_result"
    }
   ],
   "source": [
    "result = model.evaluate(\n",
    "                        validation_generator,\n",
    "                        verbose = 1,\n",
    "                        steps = 4        \n",
    "                        )\n",
    "result"
   ]
  },
  {
   "cell_type": "code",
   "execution_count": 262,
   "id": "d4d1f514",
   "metadata": {},
   "outputs": [
    {
     "name": "stdout",
     "output_type": "stream",
     "text": [
      "1/2 [==============>...............] - ETA: 0sWARNING:tensorflow:Your input ran out of data; interrupting training. Make sure that your dataset or generator can generate at least `steps_per_epoch * epochs` batches (in this case, 2 batches). You may need to use the repeat() function when building your dataset.\n",
      "2/2 [==============================] - 0s 11ms/step\n"
     ]
    },
    {
     "data": {
      "text/plain": [
       "array([[0.54292583],\n",
       "       [0.5595155 ],\n",
       "       [0.56494415],\n",
       "       [0.5606516 ],\n",
       "       [0.56146365]], dtype=float32)"
      ]
     },
     "execution_count": 262,
     "metadata": {},
     "output_type": "execute_result"
    }
   ],
   "source": [
    "pred = model.predict(validation_generator, steps = 2)\n",
    "pred[:5] "
   ]
  },
  {
   "cell_type": "code",
   "execution_count": null,
   "id": "0f4f94ee",
   "metadata": {},
   "outputs": [],
   "source": []
  }
 ],
 "metadata": {
  "kernelspec": {
   "display_name": "Python 3 (ipykernel)",
   "language": "python",
   "name": "python3"
  },
  "language_info": {
   "codemirror_mode": {
    "name": "ipython",
    "version": 3
   },
   "file_extension": ".py",
   "mimetype": "text/x-python",
   "name": "python",
   "nbconvert_exporter": "python",
   "pygments_lexer": "ipython3",
   "version": "3.10.9"
  }
 },
 "nbformat": 4,
 "nbformat_minor": 5
}
